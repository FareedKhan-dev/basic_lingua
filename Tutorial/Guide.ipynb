{
  "cells": [
    {
      "cell_type": "markdown",
      "metadata": {
        "id": "-LU39b07RfcA"
      },
      "source": [
        "**Created By**: [Fareed Khan](https://www.linkedin.com/in/fareed-khan-dev/)"
      ]
    },
    {
      "cell_type": "markdown",
      "metadata": {
        "id": "flZcy9MeE_PO"
      },
      "source": [
        "<!-- omit in toc -->\n",
        "# BasicLINGUA\n",
        "\n",
        "[![Documentation](https://img.shields.io/badge/AI%20Powered%20Documentation-Link-yellow)](https://ai-powered-basiclingua-documentation.streamlit.app/) [![Backend Code](https://img.shields.io/badge/Backend%20Engineering%20Code-Link-yellow)](https://github.com/FareedKhan-dev/2024-AI-Challenge-Zevar/tree/main/backend-engineering)  [![License](https://img.shields.io/badge/License-MIT-yellow)](https://opensource.org/licenses/MIT) [![Python](https://img.shields.io/badge/Python-3.9%2B-green)](https://www.python.org/downloads/) [![Version](https://img.shields.io/badge/BasicLingua%20Version-2.0-green)]()\n",
        "\n",
        "![Basic-Lingua Logo](https://i.ibb.co/XXhHTXc/logo.png)\n",
        "\n",
        "Basiclingua is a LLM based Python library that provides functionalities for linguistic tasks such as pattern extractions, intent recognition and many others, (**Imagination is the limit**)."
      ]
    },
    {
      "cell_type": "markdown",
      "metadata": {
        "id": "iRJo8wrmRUH_"
      },
      "source": [
        "\n",
        "## Why Building this Project?\n",
        "\n",
        "The problem that I plan to tackle is the increasing complexity and difficulty of handling text data as its size and complexity increase. NLP libraries that offer solutions are either limited in their ability to solve the required problem or require a great deal of human intervention to handle text data. We have used Multiple Language Models (Both Open-Source and Closed Source), which have demonstrated promising results in dealing with text data, to address the complexity that no NLP library has yet solved. As a result, we will be able to handle text-related tasks with minimal human intervention. We have created a powerful NLP library capable of solving any type of human text-related task, producing accurate results.\n",
        "\n",
        "## BasicLingua Architecture\n",
        "\n",
        "\n",
        "\n",
        "\n",
        "\n",
        "![Basic-Lingua Architecture](https://i.ibb.co/WsbCzZY/architecture.png)\n",
        "\n",
        "One of the biggest challenges in building this architecture was ensuring the cost associated with using the features was minimal. To address this, we use effective `prompt engineering` techniques to optimize the performance of the models and reduce the cost of using the library.\n",
        "\n",
        "## AI Powered / Manual Documentation\n",
        "\n",
        "Given that our NLP library can handle a wide range of domain-related tasks, it is crucial to provide an **AI-powered documentation** for **BasicLingua**. This documentation allows developers to ask questions related to the library, and it responds promptly by offering the exact features they need, along with examples. Additionally, it can answer other common queries, such as how to get started with the library and much more.\n",
        "\n",
        "Given that our NLP library is based on LLMs, it is crucial to provide an **AI-powered documentation** for **BasicLingua**. Makes the library more efficient to use and understand.\n",
        "\n",
        "AI Documentation Webapp is available at -  [![GitHub](https://img.shields.io/badge/AI%20Powered%20Documentation%20Link-blue?logo=Meta)](https://ai-powered-basiclingua-documentation.streamlit.app/)\n",
        "\n",
        "You can also access the manual documentation within your code editor which contains parameters details, return types and examples of each function and more.\n"
      ]
    },
    {
      "cell_type": "markdown",
      "metadata": {
        "id": "rZwVUHFwUef1"
      },
      "source": [
        "\n",
        "## Installation / Updation\n",
        "\n",
        "Before installing BasicLingua, ensure that you have Python installed on your system. BasicLingua tested on `Python 3.9` or greater. Earlier version may work but not guaranteed. To check your Python version, run the following command in your terminal:"
      ]
    },
    {
      "cell_type": "code",
      "execution_count": null,
      "metadata": {
        "id": "gESbjbynVAg3"
      },
      "outputs": [],
      "source": [
        "!python --version"
      ]
    },
    {
      "cell_type": "markdown",
      "metadata": {
        "id": "CALbhHHJVBBm"
      },
      "source": [
        "If you don't have Python installed or need to upgrade, visit the [official Python website](https://www.python.org/downloads/) to download and install the latest version.\n",
        "\n",
        "Once Python is set up, you can install BasicLingua using `pip`:"
      ]
    },
    {
      "cell_type": "code",
      "execution_count": 1,
      "metadata": {
        "id": "D3K134VxVBIu"
      },
      "outputs": [],
      "source": [
        "!pip install basiclingua"
      ]
    },
    {
      "cell_type": "markdown",
      "metadata": {
        "id": "i2TLvc0jVBOt"
      },
      "source": [
        "You can upgrade to the latest version using:"
      ]
    },
    {
      "cell_type": "code",
      "execution_count": null,
      "metadata": {
        "id": "w2F1B1uHVBVl"
      },
      "outputs": [],
      "source": [
        "!pip install --upgrade basiclingua"
      ]
    },
    {
      "cell_type": "markdown",
      "metadata": {
        "id": "4uu1DVKoVBb_"
      },
      "source": [
        "After installing BasicLingua, you need to import the models you want to use. You can choose to import specific models or all available models.\n",
        "\n",
        "Import a Specific Model"
      ]
    },
    {
      "cell_type": "code",
      "execution_count": 2,
      "metadata": {
        "id": "f4wpgjmOVVhQ"
      },
      "outputs": [],
      "source": [
        "# Importing OpenAI Model\n",
        "from basiclingua import OpenAILingua\n",
        "\n",
        "# Importing Google Gemini Model\n",
        "from basiclingua import GeminiLingua\n",
        "\n",
        "# Importing Anyscale Model\n",
        "from basiclingua import AnyScaleLingua"
      ]
    },
    {
      "cell_type": "markdown",
      "metadata": {
        "id": "-e80r_6tVV9p"
      },
      "source": [
        "Import All Models at Once"
      ]
    },
    {
      "cell_type": "code",
      "execution_count": null,
      "metadata": {
        "id": "-5ZWLQRUVWCv"
      },
      "outputs": [],
      "source": [
        "from basiclingua import OpenAILingua, GeminiLingua, AnyScaleLingua"
      ]
    },
    {
      "cell_type": "markdown",
      "metadata": {
        "id": "G1e_rrG6VWIw"
      },
      "source": [
        "**Gemini 1.0** Model is available for free within API limits, while AnyScale offer $10 free credit to get started.\n",
        "\n",
        "* Get your OpenAI API Key from [OpenAI Platform](https://platform.openai.com/api-keys)\n",
        "* Get your Gemini api key from [Gemini Platform](https://aistudio.google.com/app/apikey)\n",
        "* Get anyscale api key from [AnyScale Platform](https://app.endpoints.anyscale.com/credentials)\n",
        "\n",
        "**For Initializing OpenAI**"
      ]
    },
    {
      "cell_type": "code",
      "execution_count": 3,
      "metadata": {
        "id": "oAd2Hbh-VlvG"
      },
      "outputs": [],
      "source": [
        "# Initializing OpenAI Model\n",
        "openai_model = OpenAILingua(\n",
        "    api_key=\"YOUR_OPENAI_API_KEY\", # Your OpenAI API Key\n",
        "    model_name='gpt-3.5-turbo-0125', # Text Model Name\n",
        "    vision_model_name='gpt-4-turbo' # Vision Model Name\n",
        ")"
      ]
    },
    {
      "cell_type": "markdown",
      "metadata": {
        "id": "djh88joBVWOJ"
      },
      "source": [
        "Default models are `gemini-1.0-pro-latest` and `gemini-1.5-pro-latest` for text and vision respectively."
      ]
    },
    {
      "cell_type": "markdown",
      "metadata": {
        "id": "Ydg3lDTNVz5Y"
      },
      "source": [
        "**For Initializing Gemini**"
      ]
    },
    {
      "cell_type": "code",
      "execution_count": 4,
      "metadata": {
        "id": "ialmV5VSVzaA"
      },
      "outputs": [],
      "source": [
        "# Initializing Gemini Model\n",
        "gemini_model = GeminiLingua(\n",
        "    api_key=\"YOUR_GEMINI_API_KEY\", # Your Gemini API Key\n",
        "    model_name='gemini-1.0-pro-latest', # Text Model Name\n",
        "    vision_model_name='models/gemini-1.5-pro-latest' # Vision Model Name\n",
        ")"
      ]
    },
    {
      "cell_type": "markdown",
      "metadata": {
        "id": "qpp8V33sVy8I"
      },
      "source": [
        "Default models are `gemini-1.0-pro-latest` and `gemini-1.5-pro-latest` for text and vision respectively."
      ]
    },
    {
      "cell_type": "markdown",
      "metadata": {
        "id": "9DAyUmq7VWT4"
      },
      "source": [
        "**For Initializing AnyScale**"
      ]
    },
    {
      "cell_type": "code",
      "execution_count": 5,
      "metadata": {
        "id": "2qm2guDpVWZo"
      },
      "outputs": [],
      "source": [
        "# Initializing AnyScale Model\n",
        "anyscale_model = AnyScaleLingua(\n",
        "    api_key=\"YOUR_ANY_SCALE_API_KEY\", # Your AnyScale API Key\n",
        "    model_name=\"meta-llama/Llama-3-70b-chat-hf\" # Text Model Name\n",
        ")"
      ]
    },
    {
      "cell_type": "markdown",
      "metadata": {
        "id": "AZPBfBAlVWfQ"
      },
      "source": [
        "Default model is `meta-llama/Llama-3-70b-chat-hf`."
      ]
    },
    {
      "cell_type": "markdown",
      "metadata": {
        "id": "oUvyOhyaVWk4"
      },
      "source": [
        "## Supported LLMs\n",
        "\n",
        "For `OpenAILingua`, all text and vision models are supported as available on the [OpenAI Platform](https://platform.openai.com/docs/models).\n",
        "\n",
        "For `GeminiLingua`, all text and vision models are supported as available on the [Gemini Platform](https://ai.google.dev/gemini-api/docs/models/gemini).\n",
        "\n",
        "A complete list of open-source supported models under `AnyScaleLingua` is available on the [AnyScale Platform](https://docs.endpoints.anyscale.com/pricing).\n",
        "\n",
        "Default models are:\n",
        "\n",
        "Source | Text Model | Vision Model | Embedding Model\n",
        "--- | --- | --- | ---\n",
        "OpenAI | `gpt-3.5-turbo-0125` | `gpt-4-turbo` | `text-embedding-3-large`\n",
        "Gemini | `gemini-1.0-pro-latest` | `gemini-1.5-pro-latest` | `models/embedding-001`\n",
        "AnyScale | `meta-llama/Llama-3-70b-chat-hf` | `meta-llama/Llama-3-70b-chat-hf` | `thenlper/gte-large`"
      ]
    },
    {
      "cell_type": "markdown",
      "metadata": {
        "id": "1TlS1jOOV8t3"
      },
      "source": [
        "## Usage\n",
        "\n",
        "The library provides a wide range of functionalities for linguistic tasks some of which are mentioned below. You can use our [AI-powered documentation](https://ai-powered-basiclingua-documentation.streamlit.app/)  to learn more about the functionalities provided by the library.\n",
        "\n",
        "**Entity extraction** is crucial for transforming unstructured text into structured data, enabling efficient analysis and automation in fields like finance, healthcare, and cybersecurity. However, it can be challenging due to the complexity and ambiguity of language, which often requires intricate regex or NLP techniques.\n",
        "\n",
        "Regex-based entity extraction is time-consuming due to its detailed pattern definitions, but with our approach, you only need to define the pattern name to extract entities with minimal effort. Here's an example of extracting ICD (International Classification of Diseases) codes:"
      ]
    },
    {
      "cell_type": "code",
      "execution_count": null,
      "metadata": {
        "id": "QK9D37UfV8y3"
      },
      "outputs": [],
      "source": [
        "# ClinicalNote with complex structure and formatting\n",
        "user_input = \"\"\"Patient John, last name: Doe; 45 yrs\n",
        "                Symptoms: fatigue + frequent urination (possible diabetes); dizziness\n",
        "                Diagnosis - Type 2 Diabetes (E11.9), Hypertension (I10)\n",
        "                Prescribed: Metformin @ 500mg/day; Amlodipine, twice a day\n",
        "                Allergic: PCN (penicillin)\n",
        "                Family history of diabetes and HBP (high blood pressure)\n",
        "                Additional notes: testing for cholesterol and kidney function\n",
        "                Patient was advised to monitor blood sugar levels regularly.\n",
        "                Mentioned: Father - Type 2 Diabetes; Mother - Hypertension\n",
        "                Description - T2 Diabetes without complications; Essential Hypertension.\"\"\"\n",
        "\n",
        "# Define the patterns to extract\n",
        "patterns = \"ICD-10 Codes, Diseases, Medications, Allergies, Symptoms, Family History, Descriptions\"\n",
        "\n",
        "# Using OpenAI to extract entities\n",
        "openai_entities = openai_model.extract_patterns(user_input, patterns=patterns)\n",
        "\n",
        "# Displaying the extracted entities\n",
        "print(openai_entities)"
      ]
    },
    {
      "cell_type": "markdown",
      "metadata": {
        "id": "6xXWq_qCV826"
      },
      "source": [
        "```python\n",
        "######## Output ########\n",
        "{\n",
        "  \"ICD-10 Codes\": [\"E11.9\", \"I10\"],\n",
        "  \"Diseases\": [\"Type 2 Diabetes\", \"Hypertension\"],\n",
        "  \"Medications\": [\"Metformin\", \"Amlodipine\"],\n",
        "  \"Allergies\": [\"Penicillin\"],\n",
        "  \"Symptoms\": [\"fatigue\", \"frequent urination\", \"dizziness\"],\n",
        "  \"Family History\": [\"Father with Type 2 Diabetes\", \"Mother with Hypertension\"],\n",
        "  \"Descriptions\": [\n",
        "    \"Type 2 Diabetes without complications\",\n",
        "    \"Essential (primary) hypertension\",\n",
        "    \"testing for cholesterol and kidney function\"\n",
        "  ]\n",
        "}\n",
        "######## Output ########\n",
        "```"
      ]
    },
    {
      "cell_type": "markdown",
      "metadata": {
        "id": "JeOmb1-WV86W"
      },
      "source": [
        "Similarly, **Text coreference** is difficult because it involves figuring out which words refer to the same person or thing in a sentence or a text. It requires a deep understanding of context and the way language is used to connect different parts of a text.\n",
        "\n",
        "Here's an example of how `BasicLingua` can help you resolve coreferences in a text:"
      ]
    },
    {
      "cell_type": "code",
      "execution_count": null,
      "metadata": {
        "id": "x8UcECpoV89o"
      },
      "outputs": [],
      "source": [
        "# User input with complex co-references\n",
        "user_input = \"\"\"\n",
        "Jane and her colleague Tom were preparing for the upcoming meeting with the new clients. She had worked on the presentation slides, while he focused on the data analysis.\n",
        "When the day of the meeting arrived, Jane noticed that the projector was not working properly, so she asked Tom to check it out.\n",
        "He found that it needed a new cable, but they had none in the office. They had to improvise with a laptop. During the presentation, Jane felt nervous because the setup wasn't ideal, but Tom reassured her that everything would be fine.\n",
        "The clients appreciated their efforts, and both Jane and Tom were relieved when the meeting concluded successfully. As they left, Jane told Tom that she was grateful for his support.\n",
        "\"\"\"\n",
        "\n",
        "# Using AnyScale model to resolve coreferences\n",
        "anyscale_coref = anyscale_model.text_coreference(user_input)\n",
        "\n",
        "# Displaying the resolved coreferences\n",
        "print(\"AnyScale Coreference:\", anyscale_coref)"
      ]
    },
    {
      "cell_type": "markdown",
      "metadata": {
        "id": "tmMbRBlSV9BA"
      },
      "source": [
        "```python\n",
        "######## Output ########\n",
        "{\n",
        "  \"she\": \"Jane\",\n",
        "  \"he\": \"Tom\",\n",
        "  \"they\": [\"Jane\", \"Tom\"],\n",
        "  \"her\": \"Jane\",\n",
        "  \"him\": \"Tom\"\n",
        "}\n",
        "######## Output ########\n",
        "```"
      ]
    },
    {
      "cell_type": "markdown",
      "metadata": {
        "id": "ew0DAvAiV9Ef"
      },
      "source": [
        "\n",
        "There are many other functionalities provided by the library that can help you with various linguistic tasks. You can refer to our [AI-powered documentation](https://ai-powered-basiclingua-documentation.streamlit.app/) that can help you understand the functionalities of the library and how to use them effectively."
      ]
    },
    {
      "cell_type": "markdown",
      "metadata": {
        "id": "_sE3-a3pV9IH"
      },
      "source": [
        "## Features of the library\n",
        "\n",
        "There are more than **20** functionalities provided by the library. But due to their effectiveness across different domains, we have created an AI-powered documentation to help you understand the functionalities in a more broadened way.\n",
        "\n",
        "| Function Name           | Python Function Name  | Parameters                                 | Returns                                                                  |\n",
        "|-------------------------|-----------------------|--------------------------------------------|--------------------------------------------------------------------------|\n",
        "| Extract Patterns        | `extract_patterns`      | `user_input`, `patterns`                      | A `JSON` of extracted patterns from the input sentence                     |\n",
        "| Detect NER              | `detect_ner`            | `user_input`, `ner_tags`                      | A `JSON` of detected Named Entity Recognition (NER) entities              |          |\n",
        "| Text Intent             | `text_intent`           | `user_input`                                 | A `list` of identified intents from the input sentence                     |\n",
        "| **. . .**          | **. . .**             | **. . .**                                   | **. . .**                                                                  |\n",
        "\n",
        "You can explore more by chatting with our [Documentation Chatbot](https://ai-powered-basiclingua-documentation.streamlit.app/) to get a better understanding of the functionalities provided by the library.\n"
      ]
    },
    {
      "cell_type": "markdown",
      "metadata": {
        "id": "ZiBvMlT0WVVG"
      },
      "source": [
        "##  Acknowledgements\n",
        "\n",
        "- Rohan Anil et al., **\"Gemini: A Family of Highly Capable Multimodal Models\"**, *arXiv*, April 2024. [DOI: 10.48550/arXiv.2312.11805](https://doi.org/10.48550/arXiv.2312.11805)\n",
        "- OpenAI Team. (2024). **OpenAI GPT-3.5: The Next Evolution of Language Models**. *OpenAI Blog*. [https://openai.com/blog/gpt-3-5](https://openai.com/blog/chatgpt)\n",
        "- Meta AI. (2024, April 18). Introducing **Meta Llama 3: The most capable openly available LLM** to date. *Meta AI Blog*, from [https://ai.meta.com/blog/meta-llama-3](https://llama.meta.com/llama3/)\n",
        "- Ye, Q., Axmed, M., Pryzant, R., & Khani, F. (2024). **Prompt engineering a prompt engineer**. *arXiv*. https://doi.org/10.48550/arXiv.2311.05661"
      ]
    }
  ],
  "metadata": {
    "colab": {
      "provenance": []
    },
    "kernelspec": {
      "display_name": "Python 3",
      "name": "python3"
    },
    "language_info": {
      "name": "python"
    }
  },
  "nbformat": 4,
  "nbformat_minor": 0
}
